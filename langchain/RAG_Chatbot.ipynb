{
 "cells": [
  {
   "cell_type": "code",
   "execution_count": 15,
   "id": "217932a7-2958-4e35-bb05-c24bd2ab8672",
   "metadata": {},
   "outputs": [],
   "source": [
    "from langchain_community.document_loaders import UnstructuredURLLoader\n",
    "urls = ['https://www.plutodaycare.com/',\n",
    "        'https://www.plutodaycare.com/about-us',\n",
    "        'https://www.plutodaycare.com/locations',\n",
    "        ]\n",
    "loader = UnstructuredURLLoader(urls=urls)\n",
    "data = loader.load()  "
   ]
  },
  {
   "cell_type": "code",
   "execution_count": 16,
   "id": "529809cd-9cf6-4fe1-9a53-9c16ea21b4f8",
   "metadata": {},
   "outputs": [
    {
     "data": {
      "text/plain": [
       "[Document(metadata={'source': 'https://www.plutodaycare.com/'}, page_content='Welcome to Pluto Day Care\\n\\nYour Day Care\\n\\nAbout\\n\\nHow We Work\\n\\nAt Pluto Day Care, we are dedicated to creating a nurturing, stimulating and welcoming environment for all children. Our unique programs incorporate a variety of educational theories, while always keeping the child’s best interest in mind and allowing for hands-on, experiential learning. To find out more about us, keep reading or feel free to get in touch.\\n\\nContact\\n\\nOur Educational Programs\\n\\nThe Best Day Care\\n\\nOutdoor Play\\n\\nArt\\n\\nImaginative Play\\n\\nPluto Day Care Mission\\n\\nUnique and Valuable\\n\\nWe believe that children thrive in an environment which values their own uniqueness, while providing support and opportunities to grow emotionally, socially and creatively. By building on each child’s strengths, interests and curiosities, we guide each child to explore the world around them as well as develop new abilities and form close relationships.\\n\\nContact'),\n",
       " Document(metadata={'source': 'https://www.plutodaycare.com/about-us'}, page_content='About Pluto Day Care\\n\\nA Place to Shine\\n\\nWith our progressive early childhood education philosophy, we understand that each child has unique needs and interests. We provide the environment and tools your child needs to thrive to the best of their abilities.\\n\\nWhen we expose children to different environments and various learning experiences, we allow them to explore their self-awareness and gain a sense of the world around them. Once they leave Pluto Day Care, they’re fully prepared for the next stage of their young lives.\\n\\nGet in Touch'),\n",
       " Document(metadata={'source': 'https://www.plutodaycare.com/locations'}, page_content='Where You can Find Us\\n\\nWe Have 3 Great Locations To Serve You!\\n\\nActiva\\n\\n192 Activa Ave, Kitchener Phone: (519) 745-7400 Email: plutoactiva@gmail.com\\n\\nWeber Street\\n\\n1418 Weber St. E., Kitchener Phone: (519) 569-7177 Email: plutoweberst@gmail.com\\n\\nKing Street\\n\\n435 King St. N., Waterloo Phone: (519) 886-8800 Email: plutokingst@gmail.com')]"
      ]
     },
     "execution_count": 16,
     "metadata": {},
     "output_type": "execute_result"
    }
   ],
   "source": [
    "data"
   ]
  },
  {
   "cell_type": "code",
   "execution_count": 17,
   "id": "e8d95e39-7fdc-4159-b18f-41c8be2136ee",
   "metadata": {},
   "outputs": [
    {
     "name": "stdout",
     "output_type": "stream",
     "text": [
      "Total number of documents:  3\n"
     ]
    }
   ],
   "source": [
    "from langchain.text_splitter import RecursiveCharacterTextSplitter\n",
    "\n",
    "# split data\n",
    "text_splitter = RecursiveCharacterTextSplitter(chunk_size=1000)\n",
    "docs = text_splitter.split_documents(data)\n",
    "\n",
    "\n",
    "print(\"Total number of documents: \",len(docs))"
   ]
  },
  {
   "cell_type": "code",
   "execution_count": 18,
   "id": "137a81d3-9889-42ad-9bdb-17f3a69cd419",
   "metadata": {},
   "outputs": [
    {
     "data": {
      "text/plain": [
       "Document(metadata={'source': 'https://www.plutodaycare.com/'}, page_content='Welcome to Pluto Day Care\\n\\nYour Day Care\\n\\nAbout\\n\\nHow We Work\\n\\nAt Pluto Day Care, we are dedicated to creating a nurturing, stimulating and welcoming environment for all children. Our unique programs incorporate a variety of educational theories, while always keeping the child’s best interest in mind and allowing for hands-on, experiential learning. To find out more about us, keep reading or feel free to get in touch.\\n\\nContact\\n\\nOur Educational Programs\\n\\nThe Best Day Care\\n\\nOutdoor Play\\n\\nArt\\n\\nImaginative Play\\n\\nPluto Day Care Mission\\n\\nUnique and Valuable\\n\\nWe believe that children thrive in an environment which values their own uniqueness, while providing support and opportunities to grow emotionally, socially and creatively. By building on each child’s strengths, interests and curiosities, we guide each child to explore the world around them as well as develop new abilities and form close relationships.\\n\\nContact')"
      ]
     },
     "execution_count": 18,
     "metadata": {},
     "output_type": "execute_result"
    }
   ],
   "source": [
    "docs[0]"
   ]
  },
  {
   "cell_type": "markdown",
   "id": "1182ee77-2e5d-4cb3-971b-2319e6d124c6",
   "metadata": {},
   "source": [
    "## Setup the Embeddings"
   ]
  },
  {
   "cell_type": "code",
   "execution_count": 19,
   "id": "70a9d3e7-5b0a-447a-bd7a-9bed09fc1531",
   "metadata": {},
   "outputs": [],
   "source": [
    "from langchain_chroma import Chroma\n",
    "from langchain_openai import OpenAIEmbeddings\n",
    "from langchain_openai import OpenAI\n",
    "from dotenv import load_dotenv\n",
    "load_dotenv(override=True)\n",
    "\n",
    "vectorstore = Chroma.from_documents(documents=docs, embedding=OpenAIEmbeddings())"
   ]
  },
  {
   "cell_type": "markdown",
   "id": "42f4f340-c105-4298-bacd-53f8d702f5e3",
   "metadata": {},
   "source": [
    "## Setup retriever"
   ]
  },
  {
   "cell_type": "code",
   "execution_count": 21,
   "id": "4b61bc2c-a5e5-420b-883d-e804fd3ee36a",
   "metadata": {},
   "outputs": [],
   "source": [
    "retriever = vectorstore.as_retriever(search_type=\"similarity\", search_kwargs={\"k\": 3})\n",
    "\n",
    "retrieved_docs = retriever.invoke(\"What kind of services they provide?\")"
   ]
  },
  {
   "cell_type": "code",
   "execution_count": 22,
   "id": "11980489-df2c-4ccc-b374-7869a7846007",
   "metadata": {},
   "outputs": [
    {
     "data": {
      "text/plain": [
       "3"
      ]
     },
     "execution_count": 22,
     "metadata": {},
     "output_type": "execute_result"
    }
   ],
   "source": [
    "len(retrieved_docs)"
   ]
  },
  {
   "cell_type": "code",
   "execution_count": 23,
   "id": "3a83d315-6c35-4861-9712-c8b26b2c1659",
   "metadata": {},
   "outputs": [
    {
     "name": "stdout",
     "output_type": "stream",
     "text": [
      "About Pluto Day Care\n",
      "\n",
      "A Place to Shine\n",
      "\n",
      "With our progressive early childhood education philosophy, we understand that each child has unique needs and interests. We provide the environment and tools your child needs to thrive to the best of their abilities.\n",
      "\n",
      "When we expose children to different environments and various learning experiences, we allow them to explore their self-awareness and gain a sense of the world around them. Once they leave Pluto Day Care, they’re fully prepared for the next stage of their young lives.\n",
      "\n",
      "Get in Touch\n"
     ]
    }
   ],
   "source": [
    "print(retrieved_docs[0].page_content)"
   ]
  },
  {
   "cell_type": "markdown",
   "id": "44cd221e-c01e-4e01-9b85-ffa21fe23aea",
   "metadata": {},
   "source": [
    "## Setup Open AI LLM"
   ]
  },
  {
   "cell_type": "code",
   "execution_count": 24,
   "id": "ec759a26-a604-4466-afd9-224ad96f788d",
   "metadata": {},
   "outputs": [],
   "source": [
    "llm = OpenAI(temperature=0.4, max_tokens=500)"
   ]
  },
  {
   "cell_type": "code",
   "execution_count": 25,
   "id": "5340b0ec-7555-4d58-a034-8acec8c70aff",
   "metadata": {},
   "outputs": [],
   "source": [
    "from langchain.chains import create_retrieval_chain\n",
    "from langchain.chains.combine_documents import create_stuff_documents_chain\n",
    "from langchain_core.prompts import ChatPromptTemplate\n",
    "\n",
    "system_prompt = (\n",
    "    \"You are an assistant for question-answering tasks. \"\n",
    "    \"Use the following pieces of retrieved context to answer \"\n",
    "    \"the question. If you don't know the answer, say that you \"\n",
    "    \"don't know. Use three sentences maximum and keep the \"\n",
    "    \"answer concise.\"\n",
    "    \"\\n\\n\"\n",
    "    \"{context}\"\n",
    ")\n",
    "\n",
    "prompt = ChatPromptTemplate.from_messages(\n",
    "    [\n",
    "        (\"system\", system_prompt),\n",
    "        (\"human\", \"{input}\"),\n",
    "    ]\n",
    ")"
   ]
  },
  {
   "cell_type": "code",
   "execution_count": 26,
   "id": "95a78612-e69f-4a9f-9f66-77e11e52f794",
   "metadata": {},
   "outputs": [],
   "source": [
    "question_answer_chain = create_stuff_documents_chain(llm, prompt)\n",
    "rag_chain = create_retrieval_chain(retriever, question_answer_chain)"
   ]
  },
  {
   "cell_type": "code",
   "execution_count": 27,
   "id": "2ef6353b-1fdd-4e7e-95e1-7c2e6846924f",
   "metadata": {},
   "outputs": [
    {
     "name": "stdout",
     "output_type": "stream",
     "text": [
      ".\n",
      "\n",
      "Pluto Day Care has three locations: 192 Activa Ave in Kitchener, 1418 Weber St. E. in Kitchener, and 435 King St. N. in Waterloo. Each location has a unique phone number and email address for contact.\n"
     ]
    }
   ],
   "source": [
    "response = rag_chain.invoke({\"input\": \"Provide their address for all locations\"})\n",
    "print(response[\"answer\"])"
   ]
  },
  {
   "cell_type": "code",
   "execution_count": null,
   "id": "9d449e5c-1d86-4985-9425-b68d8be56137",
   "metadata": {},
   "outputs": [],
   "source": []
  }
 ],
 "metadata": {
  "kernelspec": {
   "display_name": "Python 3 (ipykernel)",
   "language": "python",
   "name": "python3"
  },
  "language_info": {
   "codemirror_mode": {
    "name": "ipython",
    "version": 3
   },
   "file_extension": ".py",
   "mimetype": "text/x-python",
   "name": "python",
   "nbconvert_exporter": "python",
   "pygments_lexer": "ipython3",
   "version": "3.10.14"
  }
 },
 "nbformat": 4,
 "nbformat_minor": 5
}

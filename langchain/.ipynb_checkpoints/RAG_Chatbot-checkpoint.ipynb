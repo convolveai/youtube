{
 "cells": [
  {
   "cell_type": "code",
   "execution_count": 1,
   "id": "217932a7-2958-4e35-bb05-c24bd2ab8672",
   "metadata": {},
   "outputs": [],
   "source": [
    "from langchain_community.document_loaders import UnstructuredURLLoader\n",
    "urls = ['https://www.plutodaycare.com/',\n",
    "        'https://www.plutodaycare.com/about-us',\n",
    "        'https://www.plutodaycare.com/locations',\n",
    "        ]\n",
    "loader = UnstructuredURLLoader(urls=urls)\n",
    "data = loader.load()  "
   ]
  },
  {
   "cell_type": "code",
   "execution_count": null,
   "id": "529809cd-9cf6-4fe1-9a53-9c16ea21b4f8",
   "metadata": {},
   "outputs": [],
   "source": [
    "data"
   ]
  },
  {
   "cell_type": "code",
   "execution_count": null,
   "id": "e8d95e39-7fdc-4159-b18f-41c8be2136ee",
   "metadata": {},
   "outputs": [],
   "source": [
    "from langchain.text_splitter import RecursiveCharacterTextSplitter\n",
    "\n",
    "# split data\n",
    "text_splitter = RecursiveCharacterTextSplitter(chunk_size=1000)\n",
    "docs = text_splitter.split_documents(data)\n",
    "\n",
    "\n",
    "print(\"Total number of documents: \",len(docs))"
   ]
  },
  {
   "cell_type": "code",
   "execution_count": null,
   "id": "137a81d3-9889-42ad-9bdb-17f3a69cd419",
   "metadata": {},
   "outputs": [],
   "source": [
    "docs[0]"
   ]
  },
  {
   "cell_type": "markdown",
   "id": "1182ee77-2e5d-4cb3-971b-2319e6d124c6",
   "metadata": {},
   "source": [
    "## Setup the Embeddings"
   ]
  },
  {
   "cell_type": "code",
   "execution_count": null,
   "id": "70a9d3e7-5b0a-447a-bd7a-9bed09fc1531",
   "metadata": {},
   "outputs": [],
   "source": [
    "from langchain_chroma import Chroma\n",
    "from langchain_openai import OpenAIEmbeddings\n",
    "from langchain_openai import OpenAI\n",
    "from dotenv import load_dotenv\n",
    "load_dotenv(override=True)\n",
    "\n",
    "vectorstore = Chroma.from_documents(documents=docs, embedding=OpenAIEmbeddings())"
   ]
  },
  {
   "cell_type": "markdown",
   "id": "42f4f340-c105-4298-bacd-53f8d702f5e3",
   "metadata": {},
   "source": [
    "## Setup retriever"
   ]
  },
  {
   "cell_type": "code",
   "execution_count": null,
   "id": "4b61bc2c-a5e5-420b-883d-e804fd3ee36a",
   "metadata": {},
   "outputs": [],
   "source": [
    "retriever = vectorstore.as_retriever(search_type=\"similarity\", search_kwargs={\"k\": 3})\n",
    "\n",
    "retrieved_docs = retriever.invoke(\"What kind of services they provide?\")"
   ]
  },
  {
   "cell_type": "code",
   "execution_count": null,
   "id": "11980489-df2c-4ccc-b374-7869a7846007",
   "metadata": {},
   "outputs": [],
   "source": [
    "len(retrieved_docs)"
   ]
  },
  {
   "cell_type": "code",
   "execution_count": null,
   "id": "3a83d315-6c35-4861-9712-c8b26b2c1659",
   "metadata": {},
   "outputs": [],
   "source": [
    "print(retrieved_docs[0].page_content)"
   ]
  },
  {
   "cell_type": "markdown",
   "id": "44cd221e-c01e-4e01-9b85-ffa21fe23aea",
   "metadata": {},
   "source": [
    "## Setup Open AI LLM"
   ]
  },
  {
   "cell_type": "code",
   "execution_count": null,
   "id": "ec759a26-a604-4466-afd9-224ad96f788d",
   "metadata": {},
   "outputs": [],
   "source": [
    "llm = OpenAI(temperature=0.4, max_tokens=500)"
   ]
  },
  {
   "cell_type": "code",
   "execution_count": 6,
   "id": "5340b0ec-7555-4d58-a034-8acec8c70aff",
   "metadata": {},
   "outputs": [],
   "source": [
    "from langchain.chains import create_retrieval_chain\n",
    "from langchain.chains.combine_documents import create_stuff_documents_chain\n",
    "from langchain_core.prompts import ChatPromptTemplate\n",
    "\n",
    "system_prompt = (\n",
    "    \"You are an assistant for question-answering tasks. \"\n",
    "    \"Use the following pieces of retrieved context to answer \"\n",
    "    \"the question. If you don't know the answer, say that you \"\n",
    "    \"don't know. Use three sentences maximum and keep the \"\n",
    "    \"answer concise.\"\n",
    "    \"\\n\\n\"\n",
    "    \"{context}\"\n",
    ")\n",
    "\n",
    "prompt = ChatPromptTemplate.from_messages(\n",
    "    [\n",
    "        (\"system\", system_prompt),\n",
    "        (\"human\", \"{input}\"),\n",
    "    ]\n",
    ")"
   ]
  },
  {
   "cell_type": "code",
   "execution_count": 7,
   "id": "95a78612-e69f-4a9f-9f66-77e11e52f794",
   "metadata": {},
   "outputs": [],
   "source": [
    "question_answer_chain = create_stuff_documents_chain(llm, prompt)\n",
    "rag_chain = create_retrieval_chain(retriever, question_answer_chain)"
   ]
  },
  {
   "cell_type": "code",
   "execution_count": 10,
   "id": "2ef6353b-1fdd-4e7e-95e1-7c2e6846924f",
   "metadata": {},
   "outputs": [],
   "source": [
    "response = rag_chain.invoke({\"input\": \"Provide their address for all locations\"})\n",
    "print(response[\"answer\"])"
   ]
  }
 ],
 "metadata": {
  "kernelspec": {
   "display_name": "Python 3 (ipykernel)",
   "language": "python",
   "name": "python3"
  },
  "language_info": {
   "codemirror_mode": {
    "name": "ipython",
    "version": 3
   },
   "file_extension": ".py",
   "mimetype": "text/x-python",
   "name": "python",
   "nbconvert_exporter": "python",
   "pygments_lexer": "ipython3",
   "version": "3.10.14"
  }
 },
 "nbformat": 4,
 "nbformat_minor": 5
}
